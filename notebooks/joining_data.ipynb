{
 "cells": [
  {
   "cell_type": "markdown",
   "metadata": {},
   "source": [
    "Join the data from Part 1 with the data from Part 2 to create a new dataframe."
   ]
  },
  {
   "cell_type": "code",
   "execution_count": 28,
   "metadata": {},
   "outputs": [],
   "source": [
    "import pandas as pd\n",
    "\n",
    "# Define DataFrames\n",
    "bike_stations = pd.DataFrame({\n",
    "    'Name': ['Station 1', 'Station 2', 'Station 3'],\n",
    "    'Latitude': [40.748817, 40.761596, 40.764817],\n",
    "    'Longitude': [-73.985428, -73.981618, -73.978508]\n",
    "})\n",
    "\n",
    "yelp_df = pd.DataFrame({\n",
    "    'Station Name': ['Station 1', 'Station 2', 'Station 3'],\n",
    "    'Rating': [4.5, 4.2, 4.7]\n",
    "})\n"
   ]
  },
  {
   "cell_type": "code",
   "execution_count": 26,
   "metadata": {},
   "outputs": [
    {
     "name": "stdout",
     "output_type": "stream",
     "text": [
      "Combined DataFrame:\n",
      "        Name   Latitude  Longitude Station Name  Rating\n",
      "0  Station 1  40.748817 -73.985428    Station 1     4.5\n",
      "1  Station 2  40.761596 -73.981618    Station 2     4.2\n",
      "2  Station 3  40.764817 -73.978508    Station 3     4.7\n",
      "Data successfully saved to 'combined_bike_stations_yelp_data.csv'.\n"
     ]
    }
   ],
   "source": [
    "import pandas as pd\n",
    "\n",
    "# Merge the DataFrames\n",
    "combined_df = pd.merge(bike_stations, yelp_df, left_on='Name', right_on='Station Name', how='inner')\n",
    "\n",
    "# Display the resulting combined DataFrame\n",
    "print(\"Combined DataFrame:\")\n",
    "print(combined_df)\n",
    "\n",
    "# Save the combined DataFrame to a CSV file\n",
    "combined_df.to_csv('combined_bike_stations_yelp_data.csv', index=False)\n",
    "print(\"Data successfully saved to 'combined_bike_stations_yelp_data.csv'.\")"
   ]
  },
  {
   "cell_type": "markdown",
   "metadata": {},
   "source": [
    "Provide a visualization that you used as part of your EDA process. Explain the initial pattern or relationship you discoved through this visualization. "
   ]
  },
  {
   "cell_type": "code",
   "execution_count": 29,
   "metadata": {},
   "outputs": [
    {
     "name": "stdout",
     "output_type": "stream",
     "text": [
      "Bike Stations Columns: Index(['Name', 'Latitude', 'Longitude'], dtype='object')\n",
      "Yelp Data Columns: Index(['Station Name', 'Rating'], dtype='object')\n",
      "Map saved as 'bike_stations_and_yelp_pois.html'. Open it in a web browser to view!\n"
     ]
    }
   ],
   "source": [
    "import folium\n",
    "\n",
    "# Debugging: Check column names\n",
    "print(\"Bike Stations Columns:\", bike_stations.columns)\n",
    "print(\"Yelp Data Columns:\", yelp_df.columns)\n",
    "\n",
    "# Initialize the map centered around the average coordinates of bike stations\n",
    "map_center = [bike_stations['Latitude'].mean(), bike_stations['Longitude'].mean()]\n",
    "city_map = folium.Map(location=map_center, zoom_start=13)\n",
    "\n",
    "# Add bike station markers\n",
    "for _, station in bike_stations.iterrows():\n",
    "    if 'Latitude' in station and 'Longitude' in station:\n",
    "        folium.Marker(\n",
    "            location=[station['Latitude'], station['Longitude']],\n",
    "            popup=f\"Station: {station['Name']}\",\n",
    "            icon=folium.Icon(color='blue')\n",
    "        ).add_to(city_map)\n",
    "\n",
    "# Add Yelp POI markers\n",
    "for _, poi in yelp_df.iterrows():\n",
    "    if 'Latitude' in poi and 'Longitude' in poi:\n",
    "        folium.Marker(\n",
    "            location=[poi['Latitude'], poi['Longitude']],\n",
    "            popup=f\"POI: {poi['POI Name']} ({poi['Rating']} stars, {poi['Review Count']} reviews)\",\n",
    "            icon=folium.Icon(color='green')\n",
    "        ).add_to(city_map)\n",
    "\n",
    "# Save and display the map\n",
    "city_map.save('bike_stations_and_yelp_pois.html')\n",
    "print(\"Map saved as 'bike_stations_and_yelp_pois.html'. Open it in a web browser to view!\")\n"
   ]
  },
  {
   "cell_type": "markdown",
   "metadata": {},
   "source": [
    "# Database"
   ]
  },
  {
   "cell_type": "markdown",
   "metadata": {},
   "source": [
    "Put all your results in an SQLite3 database (remember, SQLite stores its databases as files in your local machine - make sure to create your database in your project's data/ directory!)"
   ]
  },
  {
   "cell_type": "code",
   "execution_count": 30,
   "metadata": {},
   "outputs": [
    {
     "name": "stdout",
     "output_type": "stream",
     "text": [
      "Data in SQLite Database:\n",
      "('Station 1', 40.748817, -73.985428, \"Joe's Pizza\", 4.5, 250, '123 Main St')\n",
      "('Station 2', 40.761596, -73.981618, 'Thai Corner', 4.8, 350, '789 Pine St')\n",
      "('Station 3', 40.764817, -73.978508, 'Barista Cafe', 4.6, 200, '101 Oak St')\n",
      "('Station 3', 40.764817, -73.978508, 'Sushi Spot', 4.4, 150, '202 Maple St')\n",
      "('Station 1', 40.748817, -73.985428, \"Joe's Pizza\", 4.5, 250, '123 Main St')\n",
      "('Station 2', 40.761596, -73.981618, 'Thai Corner', 4.8, 350, '789 Pine St')\n",
      "('Station 3', 40.764817, -73.978508, 'Barista Cafe', 4.6, 200, '101 Oak St')\n",
      "('Station 3', 40.764817, -73.978508, 'Sushi Spot', 4.4, 150, '202 Maple St')\n",
      "('Station 1', 40.748817, -73.985428, \"Joe's Pizza\", 4.5, 250, '123 Main St')\n",
      "('Station 2', 40.761596, -73.981618, 'Thai Corner', 4.8, 350, '789 Pine St')\n",
      "('Station 3', 40.764817, -73.978508, 'Barista Cafe', 4.6, 200, '101 Oak St')\n",
      "('Station 3', 40.764817, -73.978508, 'Sushi Spot', 4.4, 150, '202 Maple St')\n",
      "Database successfully created and stored at: /Users/erum/Statistical-Modelling-Project/data/combined_data.db\n"
     ]
    }
   ],
   "source": [
    "import sqlite3\n",
    "import pandas as pd\n",
    "import os\n",
    "\n",
    "# Ensure the 'data/' directory exists\n",
    "data_dir = '/Users/erum/Statistical-Modelling-Project/data'\n",
    "if not os.path.exists(data_dir):\n",
    "    os.makedirs(data_dir)\n",
    "\n",
    "# Create SQLite connection and database file in the 'data/' directory\n",
    "db_path = os.path.join(data_dir, \"combined_data.db\")  # Define the database file path\n",
    "conn = sqlite3.connect(db_path)  # Connect to SQLite database\n",
    "cursor = conn.cursor()\n",
    "\n",
    "# Example DataFrame (bike station and POI data)\n",
    "combined_df = pd.DataFrame({\n",
    "    'Station Name': ['Station 1', 'Station 2', 'Station 3', 'Station 3'],\n",
    "    'Latitude': [40.748817, 40.761596, 40.764817, 40.764817],\n",
    "    'Longitude': [-73.985428, -73.981618, -73.978508, -73.978508],\n",
    "    'POI Name': ['Joe\\'s Pizza', 'Thai Corner', 'Barista Cafe', 'Sushi Spot'],\n",
    "    'Rating': [4.5, 4.8, 4.6, 4.4],\n",
    "    'Distance (m)': [250, 350, 200, 150],\n",
    "    'Address': ['123 Main St', '789 Pine St', '101 Oak St', '202 Maple St']\n",
    "})\n",
    "\n",
    "# Step 1: Create a table in SQLite for the combined data\n",
    "cursor.execute(\"\"\"\n",
    "CREATE TABLE IF NOT EXISTS combined_data (\n",
    "    Station_Name TEXT,\n",
    "    Latitude REAL,\n",
    "    Longitude REAL,\n",
    "    POI_Name TEXT,\n",
    "    Rating REAL,\n",
    "    Distance INTEGER,\n",
    "    Address TEXT\n",
    ")\n",
    "\"\"\")\n",
    "\n",
    "# Step 2: Insert data from the DataFrame into the SQLite table\n",
    "for index, row in combined_df.iterrows():\n",
    "    cursor.execute(\"\"\"\n",
    "    INSERT INTO combined_data (Station_Name, Latitude, Longitude, POI_Name, Rating, Distance, Address)\n",
    "    VALUES (?, ?, ?, ?, ?, ?, ?)\n",
    "    \"\"\", tuple(row))\n",
    "\n",
    "# Commit changes\n",
    "conn.commit()\n",
    "\n",
    "# Step 3: Verify the data is inserted by querying the database\n",
    "cursor.execute(\"SELECT * FROM combined_data\")\n",
    "results = cursor.fetchall()\n",
    "\n",
    "# Print data for verification\n",
    "print(\"Data in SQLite Database:\")\n",
    "for row in results:\n",
    "    print(row)\n",
    "\n",
    "# Close connection\n",
    "conn.close()\n",
    "\n",
    "# Optional: Print confirmation message\n",
    "print(f\"Database successfully created and stored at: {db_path}\")"
   ]
  },
  {
   "cell_type": "markdown",
   "metadata": {},
   "source": [
    "Look at the data before and after the join to validate your data."
   ]
  },
  {
   "cell_type": "code",
   "execution_count": null,
   "metadata": {},
   "outputs": [],
   "source": []
  }
 ],
 "metadata": {
  "kernelspec": {
   "display_name": "test_env",
   "language": "python",
   "name": "test_env"
  },
  "language_info": {
   "codemirror_mode": {
    "name": "ipython",
    "version": 3
   },
   "file_extension": ".py",
   "mimetype": "text/x-python",
   "name": "python",
   "nbconvert_exporter": "python",
   "pygments_lexer": "ipython3",
   "version": "3.12.9"
  }
 },
 "nbformat": 4,
 "nbformat_minor": 4
}
