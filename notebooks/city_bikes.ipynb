{
 "cells": [
  {
   "cell_type": "markdown",
   "metadata": {},
   "source": [
    "# CityBikes"
   ]
  },
  {
   "cell_type": "markdown",
   "metadata": {},
   "source": [
    "Send a request to CityBikes for the city of your choice. "
   ]
  },
  {
   "cell_type": "code",
   "execution_count": 9,
   "metadata": {},
   "outputs": [
    {
     "name": "stdout",
     "output_type": "stream",
     "text": [
      "Network ID for New York: citi-bike-nyc\n",
      "Bike Stations DataFrame:\n",
      "                            Name   Latitude  Longitude  Free Bikes  \\\n",
      "0           Chester Ave & 12 Ave  40.644367 -73.984276          19   \n",
      "1                W 56 St & 8 Ave  40.765959 -73.983135           0   \n",
      "2     S Portland Ave & Hanson Pl  40.685396 -73.974315           6   \n",
      "3                E 78 St & 2 Ave  40.772797 -73.955778           5   \n",
      "4          87 St & Roosevelt Ave  40.748250 -73.879360           1   \n",
      "...                          ...        ...        ...         ...   \n",
      "2212      Columbus Ave & W 72 St  40.777057 -73.978985           3   \n",
      "2213       E 138 St & Willow Ave  40.804168 -73.911545          14   \n",
      "2214      Dean St & Franklin Ave  40.677592 -73.955637           6   \n",
      "2215       E 149 St & Morris Ave  40.817340 -73.922962          32   \n",
      "2216              58 St & 32 Ave  40.755740 -73.903427           7   \n",
      "\n",
      "      Empty Slots  Total Bikes  \n",
      "0               2           21  \n",
      "1              45           45  \n",
      "2              18           24  \n",
      "3              16           21  \n",
      "4              22           23  \n",
      "...           ...          ...  \n",
      "2212           51           54  \n",
      "2213            2           16  \n",
      "2214            4           10  \n",
      "2215            1           33  \n",
      "2216           10           17  \n",
      "\n",
      "[2217 rows x 6 columns]\n",
      "Station data successfully saved to 'newyork_bike_stations_details.csv'.\n"
     ]
    }
   ],
   "source": [
    "import requests\n",
    "import pandas as pd\n",
    "\n",
    "try:\n",
    "    # Step 1: Retrieve all network data\n",
    "    network_response = requests.get('http://api.citybik.es/v2/networks')\n",
    "    network_response.raise_for_status()  # Raise HTTP error if occurred\n",
    "    network_data = network_response.json()\n",
    "\n",
    "    # Step 2: Choose a city and get its network ID for New York\n",
    "    networks = network_data['networks']  # Extract all networks\n",
    "    ny_network = next(network for network in networks if 'New York' in network['location']['city'])\n",
    "    network_id = ny_network['id']\n",
    "    print(f\"Network ID for New York: {network_id}\")\n",
    "\n",
    "    # Step 3: Retrieve the specific network for New York\n",
    "    network_response = requests.get(f'http://api.citybik.es/v2/networks/{network_id}')\n",
    "    network_response.raise_for_status()  # Raise HTTP error if occurred\n",
    "    network_data = network_response.json()\n",
    "\n",
    "    # Step 4: Parse the stations from the network data\n",
    "    stations = network_data['network']['stations']\n",
    "\n",
    "    # Step 5: Extract the required details into a DataFrame\n",
    "    station_data = {\n",
    "        'Name': [station['name'] for station in stations],\n",
    "        'Latitude': [station['latitude'] for station in stations],\n",
    "        'Longitude': [station['longitude'] for station in stations],\n",
    "        'Free Bikes': [station['free_bikes'] for station in stations],\n",
    "        'Empty Slots': [station['empty_slots'] for station in stations],  # Optional\n",
    "        'Total Bikes': [station['free_bikes'] + station['empty_slots'] for station in stations]  # Optional\n",
    "    }\n",
    "\n",
    "    station_df = pd.DataFrame(station_data)\n",
    "\n",
    "    # Step 6: Display the DataFrame\n",
    "    print(\"Bike Stations DataFrame:\")\n",
    "    print(station_df)\n",
    "\n",
    "    # Step 7: Save the data to a CSV file\n",
    "    station_df.to_csv('newyork_bike_stations_details.csv', index=False)\n",
    "    print(\"Station data successfully saved to 'newyork_bike_stations_details.csv'.\")\n",
    "\n",
    "except StopIteration:\n",
    "    print(\"Error: No network found for 'New York'.\")\n",
    "except requests.exceptions.RequestException as e:\n",
    "    print(f\"Error: Failed to retrieve data - {e}\")\n",
    "except KeyError as e:\n",
    "    print(f\"Error: Unexpected data format - {e}\")\n"
   ]
  },
  {
   "cell_type": "markdown",
   "metadata": {},
   "source": [
    "Parse through the response to get the details you want for the bike stations in that city (latitude, longitude, number of bikes). "
   ]
  },
  {
   "cell_type": "code",
   "execution_count": 10,
   "metadata": {},
   "outputs": [],
   "source": [
    "\n",
    "# Step 4: Parse the stations from the network data\n",
    "station_df = network_data['network']['stations']\n",
    "\n",
    "# Step 5: Extract the required details into a DataFrame\n",
    "station_df = {\n",
    "    'Name': [station['name'] for station in stations],\n",
    "    'Latitude': [station['latitude'] for station in stations],\n",
    "    'Longitude': [station['longitude'] for station in stations],\n",
    "    'Free Bikes': [station['free_bikes'] for station in stations],\n",
    "    'Empty Slots': [station['empty_slots'] for station in stations], \n",
    "    'Total Bikes': [station['free_bikes'] + station['empty_slots'] for station in stations]  \n",
    "}\n"
   ]
  },
  {
   "cell_type": "markdown",
   "metadata": {},
   "source": [
    "Put your parsed results into a DataFrame."
   ]
  },
  {
   "cell_type": "code",
   "execution_count": 11,
   "metadata": {},
   "outputs": [
    {
     "name": "stdout",
     "output_type": "stream",
     "text": [
      "Bike Stations DataFrame:\n",
      "                            Name   Latitude  Longitude  Free Bikes  \\\n",
      "0           Chester Ave & 12 Ave  40.644367 -73.984276          19   \n",
      "1                W 56 St & 8 Ave  40.765959 -73.983135           0   \n",
      "2     S Portland Ave & Hanson Pl  40.685396 -73.974315           6   \n",
      "3                E 78 St & 2 Ave  40.772797 -73.955778           5   \n",
      "4          87 St & Roosevelt Ave  40.748250 -73.879360           1   \n",
      "...                          ...        ...        ...         ...   \n",
      "2212      Columbus Ave & W 72 St  40.777057 -73.978985           3   \n",
      "2213       E 138 St & Willow Ave  40.804168 -73.911545          14   \n",
      "2214      Dean St & Franklin Ave  40.677592 -73.955637           6   \n",
      "2215       E 149 St & Morris Ave  40.817340 -73.922962          32   \n",
      "2216              58 St & 32 Ave  40.755740 -73.903427           7   \n",
      "\n",
      "      Empty Slots  Total Bikes  \n",
      "0               2           21  \n",
      "1              45           45  \n",
      "2              18           24  \n",
      "3              16           21  \n",
      "4              22           23  \n",
      "...           ...          ...  \n",
      "2212           51           54  \n",
      "2213            2           16  \n",
      "2214            4           10  \n",
      "2215            1           33  \n",
      "2216           10           17  \n",
      "\n",
      "[2217 rows x 6 columns]\n",
      "Station data successfully saved to 'newyork_bike_stations_details.csv'.\n"
     ]
    }
   ],
   "source": [
    "# Create the DataFrame\n",
    "station_df = pd.DataFrame(station_data)\n",
    "\n",
    "# Step 6: Display the DataFrame\n",
    "print(\"Bike Stations DataFrame:\")\n",
    "print(station_df)\n",
    "\n",
    "# Step 7: Save the data to a CSV file\n",
    "station_df.to_csv('newyork_bike_stations_details.csv', index=False)\n",
    "print(\"Station data successfully saved to 'newyork_bike_stations_details.csv'.\")"
   ]
  },
  {
   "cell_type": "code",
   "execution_count": null,
   "metadata": {},
   "outputs": [],
   "source": []
  }
 ],
 "metadata": {
  "kernelspec": {
   "display_name": "test_env",
   "language": "python",
   "name": "python3"
  },
  "language_info": {
   "codemirror_mode": {
    "name": "ipython",
    "version": 3
   },
   "file_extension": ".py",
   "mimetype": "text/x-python",
   "name": "python",
   "nbconvert_exporter": "python",
   "pygments_lexer": "ipython3",
   "version": "3.12.9"
  }
 },
 "nbformat": 4,
 "nbformat_minor": 4
}
