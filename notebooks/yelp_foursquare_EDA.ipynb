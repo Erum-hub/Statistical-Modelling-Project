{
 "cells": [
  {
   "cell_type": "markdown",
   "metadata": {},
   "source": [
    "# Foursquare"
   ]
  },
  {
   "cell_type": "markdown",
   "metadata": {},
   "source": [
    "Send a request to Foursquare with a small radius (1000m) for all the bike stations in your city of choice. "
   ]
  },
  {
   "cell_type": "code",
   "execution_count": 7,
   "metadata": {},
   "outputs": [],
   "source": [
    "import requests\n",
    "import pandas as pd\n",
    "\n",
    "# Define Foursquare function\n",
    "def get_foursquare_data(lat, lon, api_key):\n",
    "    headers = {'Authorization': api_key}\n",
    "    params = {'ll': f'{lat},{lon}', 'radius': 1000, 'query': 'restaurant'}\n",
    "    response = requests.get('https://api.foursquare.com/v3/places/search', headers=headers, params=params)\n",
    "    if response.status_code == 200:\n",
    "        return response.json()\n",
    "    else:\n",
    "        print(f\"Foursquare API Error: {response.status_code}, {response.text}\")\n",
    "        return None\n",
    "\n",
    "# Foursquare API key \n",
    "foursquare_api_key = 'fsq3GyfbX6HyEid5W13kCSuzPRsd0YmBh0Ipisz8epSVJ14='\n",
    "\n",
    "# bike station data for New York City\n",
    "bike_stations = pd.DataFrame({\n",
    "    'Name': ['Station 1', 'Station 2', 'Station 3'],\n",
    "    'Latitude': [40.748817, 40.761596, 40.764817],\n",
    "    'Longitude': [-73.985428, -73.981618, -73.978508]\n",
    "})\n",
    "\n",
    "# Initialize result storage\n",
    "foursquare_results = []"
   ]
  },
  {
   "cell_type": "markdown",
   "metadata": {},
   "source": [
    "Parse through the response to get the POI (such as restaurants, bars, etc) details you want (ratings, name, location, etc)"
   ]
  },
  {
   "cell_type": "code",
   "execution_count": 8,
   "metadata": {},
   "outputs": [],
   "source": [
    "# Query Foursquare API for each bike station\n",
    "for index, row in bike_stations.iterrows():\n",
    "    lat, lon = row['Latitude'], row['Longitude']\n",
    "    fs_data = get_foursquare_data(lat, lon, foursquare_api_key)\n",
    "    if fs_data:\n",
    "        for poi in fs_data.get('results', []):\n",
    "            foursquare_results.append({\n",
    "                'Station Name': row['Name'],\n",
    "                'POI Name': poi.get('name', 'Unknown'),\n",
    "                'Category': poi.get('categories', [{}])[0].get('name', 'Unknown'),\n",
    "                'Latitude': poi.get('geocodes', {}).get('main', {}).get('latitude', None),\n",
    "                'Longitude': poi.get('geocodes', {}).get('main', {}).get('longitude', None)\n",
    "            })\n",
    "\n"
   ]
  },
  {
   "cell_type": "markdown",
   "metadata": {},
   "source": [
    "Put your parsed results into a DataFrame"
   ]
  },
  {
   "cell_type": "code",
   "execution_count": 9,
   "metadata": {},
   "outputs": [
    {
     "name": "stdout",
     "output_type": "stream",
     "text": [
      "Foursquare Results DataFrame:\n",
      "  Station Name             POI Name           Category   Latitude  Longitude\n",
      "0    Station 1            Rib No. 7          BBQ Joint  40.748329 -73.986845\n",
      "1    Station 1  Yoon Haeundae Galbi          BBQ Joint  40.749849 -73.984502\n",
      "2    Station 1     Tonchin New York                Bar  40.750335 -73.984477\n",
      "3    Station 1       BCD Tofu House  Korean Restaurant  40.747437 -73.985820\n",
      "4    Station 1     The Parlour Room       Cocktail Bar  40.750667 -73.986194\n"
     ]
    }
   ],
   "source": [
    "# Create a DataFrame for Foursquare results\n",
    "foursquare_df = pd.DataFrame(foursquare_results)\n",
    "\n",
    "# Save to CSV\n",
    "foursquare_df.to_csv('foursquare_results_nyc.csv', index=False)\n",
    "\n",
    "# Display the DataFrame\n",
    "print(\"Foursquare Results DataFrame:\")\n",
    "print(foursquare_df.head())"
   ]
  },
  {
   "cell_type": "markdown",
   "metadata": {},
   "source": [
    "# Yelp"
   ]
  },
  {
   "cell_type": "markdown",
   "metadata": {},
   "source": [
    "Send a request to Yelp with a small radius (1000m) for all the bike stations in your city of choice. "
   ]
  },
  {
   "cell_type": "code",
   "execution_count": 10,
   "metadata": {},
   "outputs": [],
   "source": [
    "import requests\n",
    "import pandas as pd\n",
    "\n",
    "# Function to query Yelp API\n",
    "def get_yelp_data(lat, lon, api_key, radius=1000, categories='restaurants,bars'):\n",
    "    headers = {'Authorization': f'Bearer {api_key}'}\n",
    "    params = {\n",
    "        'latitude': lat,\n",
    "        'longitude': lon,\n",
    "        'categories': categories,\n",
    "        'radius': radius\n",
    "    }\n",
    "    response = requests.get('https://api.yelp.com/v3/businesses/search', headers=headers, params=params)\n",
    "    if response.status_code == 200:\n",
    "        return response.json()\n",
    "    else:\n",
    "        print(f\"Yelp API Error: {response.status_code}, {response.text}\")\n",
    "        return None\n",
    "\n",
    "# Yelp API key\n",
    "yelp_api_key = 'NXlcmooqZ6zbzXVDV8aFaMceh8PUtCS3YjJfSG0XUNOSNJA2xHL4ovwJ7VH0qTvDjsF_xOC2cP_kQ0Xxuv-5UhcCx5TYJ_LqVGPYS7VVX2iZg9MC3BIFhzuPTRX4Z3Yx'"
   ]
  },
  {
   "cell_type": "markdown",
   "metadata": {},
   "source": [
    "Parse through the response to get the POI (such as restaurants, bars, etc) details you want (ratings, name, location, etc)"
   ]
  },
  {
   "cell_type": "code",
   "execution_count": 11,
   "metadata": {},
   "outputs": [],
   "source": [
    "# bike station data for New York City\n",
    "bike_stations = pd.DataFrame({\n",
    "    'Name': ['Station 1', 'Station 2', 'Station 3'],\n",
    "    'Latitude': [40.748817, 40.761596, 40.764817],\n",
    "    'Longitude': [-73.985428, -73.981618, -73.978508]\n",
    "})\n",
    "\n",
    "# Initialize a list to store the parsed POI details\n",
    "yelp_results = []\n",
    "\n",
    "# parse Yelp API for each bike station\n",
    "for index, row in bike_stations.iterrows():\n",
    "    lat, lon = row['Latitude'], row['Longitude']\n",
    "    response_data = get_yelp_data(lat, lon, yelp_api_key, radius=1000, categories='restaurants,bars')\n",
    "    \n",
    "    if response_data:\n",
    "        for business in response_data.get('businesses', []):\n",
    "            yelp_results.append({\n",
    "                'Station Name': row['Name'],\n",
    "                'POI Name': business.get('name', 'Unknown'),\n",
    "                'Rating': business.get('rating', 'N/A'),\n",
    "                'Review Count': business.get('review_count', 'N/A'),\n",
    "                'Latitude': business.get('coordinates', {}).get('latitude', None),\n",
    "                'Longitude': business.get('coordinates', {}).get('longitude', None),\n",
    "                'Address': business.get('location', {}).get('address1', 'N/A'),\n",
    "                'Distance (m)': business.get('distance', 'N/A')\n",
    "            })"
   ]
  },
  {
   "cell_type": "markdown",
   "metadata": {},
   "source": [
    "Put your parsed results into a DataFrame"
   ]
  },
  {
   "cell_type": "code",
   "execution_count": 13,
   "metadata": {},
   "outputs": [
    {
     "name": "stdout",
     "output_type": "stream",
     "text": [
      "Yelp POI DataFrame:\n",
      "  Station Name                                           POI Name  Rating  \\\n",
      "0    Station 1                                            Tonchin     4.4   \n",
      "1    Station 1                                        Izakaya MEW     4.3   \n",
      "2    Station 1                                   Anytime Kitchen      4.6   \n",
      "3    Station 1  The Ragtrader & Bo Peep Cocktail and Highball ...     4.3   \n",
      "4    Station 1                                        Barn Joo 35     4.2   \n",
      "\n",
      "   Review Count   Latitude  Longitude          Address  Distance (m)  \n",
      "0          2345  40.750273 -73.984495     13 W 36th St    179.934357  \n",
      "1          3166  40.750148 -73.986320     53 W 35th St    165.995569  \n",
      "2          3169  40.747763 -73.986779     23 W 32nd St    163.408392  \n",
      "3           993  40.750711 -73.986219  70 W 36th St 1A    220.872893  \n",
      "4          2524  40.749640 -73.985820     34 W 35th St     99.812830  \n"
     ]
    }
   ],
   "source": [
    "# Create a DataFrame from the Yelp results\n",
    "yelp_df = pd.DataFrame(yelp_results)\n",
    "\n",
    "# Save the DataFrame to a CSV file\n",
    "yelp_df.to_csv('yelp_poi_data_nyc.csv', index=False)\n",
    "\n",
    "# Display the DataFrame\n",
    "print(\"Yelp POI DataFrame:\")\n",
    "print(yelp_df.head())"
   ]
  },
  {
   "cell_type": "markdown",
   "metadata": {},
   "source": [
    "# Comparing Results"
   ]
  },
  {
   "cell_type": "markdown",
   "metadata": {},
   "source": [
    "Which API provided you with more complete data? Provide an explanation. "
   ]
  },
  {
   "cell_type": "markdown",
   "metadata": {},
   "source": [
    "Yelp has provided better coverage in terms of quantity of POI, It has more information on rating and reviews and offer detailed addresses. "
   ]
  },
  {
   "cell_type": "markdown",
   "metadata": {},
   "source": [
    "Get the top 10 restaurants according to their rating"
   ]
  },
  {
   "cell_type": "markdown",
   "metadata": {},
   "source": [
    "Anytime Kitchen \n",
    "CHILI\n",
    "Nan Xiang Soup Dumplings - Koreatown\n",
    "Tuscany Steakhouse\n",
    "Nubiani\n",
    "Zen Ramen & Sushi\n",
    "Haswell Green's\n",
    "Bartley Dunnes\n",
    "Bengal Tiger \n",
    "Beyond Sushi"
   ]
  }
 ],
 "metadata": {
  "kernelspec": {
   "display_name": "test_env",
   "language": "python",
   "name": "python3"
  },
  "language_info": {
   "codemirror_mode": {
    "name": "ipython",
    "version": 3
   },
   "file_extension": ".py",
   "mimetype": "text/x-python",
   "name": "python",
   "nbconvert_exporter": "python",
   "pygments_lexer": "ipython3",
   "version": "3.12.9"
  }
 },
 "nbformat": 4,
 "nbformat_minor": 4
}
