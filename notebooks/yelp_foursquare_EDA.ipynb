{
 "cells": [
  {
   "cell_type": "markdown",
   "metadata": {},
   "source": [
    "# Foursquare"
   ]
  },
  {
   "cell_type": "markdown",
   "metadata": {},
   "source": [
    "Send a request to Foursquare with a small radius (1000m) for all the bike stations in your city of choice. "
   ]
  },
  {
   "cell_type": "code",
   "execution_count": 118,
   "metadata": {},
   "outputs": [],
   "source": [
    "\n",
    "from gettext import install\n",
    "import IPython\n",
    "import dotenv\n",
    "import pip\n",
    "import requests\n",
    "import os\n"
   ]
  },
  {
   "cell_type": "code",
   "execution_count": 119,
   "metadata": {},
   "outputs": [],
   "source": [
    "import requests\n",
    "import pandas as pd\n",
    "\n",
    "\n",
    "# Define Foursquare function\n",
    "def get_foursquare_data(lat, lon, api_key):\n",
    "    headers = {'Authorization': api_key}\n",
    "    params = {'ll': f'{lat},{lon}', 'radius': 1000, 'query': 'restaurant'}\n",
    "    response = requests.get('https://api.foursquare.com/v3/places/search', headers=headers, params=params)\n",
    "    if response.status_code == 200:\n",
    "        return response.json()\n",
    "    else:\n",
    "        print(f\"Foursquare API Error: {response.status_code}, {response.text}\")\n",
    "        return None\n",
    "\n",
    "# Foursquare API key. Retrieve API key from environment variables.\n",
    "from dotenv import load_dotenv\n",
    "import os\n",
    "\n",
    "# Load the .env file\n",
    "load_dotenv()\n",
    "\n",
    "# Retrieve the API key\n",
    "API_KEY = os.getenv(\"API_KEY\")\n",
    "\n",
    "if not API_KEY:\n",
    "    raise ValueError(\"API_KEY not found in .env file or environment variables\")\n",
    "\n",
    "\n",
    "# Bike station data for New York City\n",
    "bike_stations = pd.DataFrame({\n",
    "    'Name': ['Station 1', 'Station 2', 'Station 3'],\n",
    "    'Latitude': [40.748817, 40.761596, 40.764817],\n",
    "    'Longitude': [-73.985428, -73.981618, -73.978508]\n",
    "})\n",
    "\n",
    "# Initialize result storage\n",
    "foursquare_results = []"
   ]
  },
  {
   "cell_type": "markdown",
   "metadata": {},
   "source": [
    "Parse through the response to get the POI (such as restaurants, bars, etc) details you want (ratings, name, location, etc)"
   ]
  },
  {
   "cell_type": "code",
   "execution_count": 120,
   "metadata": {},
   "outputs": [],
   "source": [
    "# import requests\n",
    "import pandas as pd\n",
    "\n",
    "\n",
    "# Define Foursquare function\n",
    "def get_foursquare_data(lat, lon, api_key): \n",
    "    headers = {'Authorization': api_key}\n",
    "    params = {'ll': f'{lat},{lon}', 'radius': 1000, 'query': 'restaurant'}\n",
    "    response = requests.get('https://api.foursquare.com/v3/places/search', headers=headers, params=params)\n",
    "    if response.status_code == 200:\n",
    "        return response.json()\n",
    "    else:\n",
    "        print(f\"Foursquare API Error: {response.status_code}, {response.text}\")\n",
    "        return None\n",
    "\n",
    "# Foursquare API key. Retrieve API key from environment variables.\n",
    "import os\n",
    "from dotenv import load_dotenv\n",
    "\n",
    "\n",
    "# Load the .env file\n",
    "load_dotenv()\n",
    "\n",
    "# Retrieve the API key\n",
    "API_KEY = os.getenv(\"API_KEY\")\n",
    "\n",
    "if not API_KEY:\n",
    "    raise ValueError(\"API_KEY not found in .env file or environment variables\")\n",
    "\n",
    "\n",
    "# Bike station data for New York City\n",
    "bike_stations = pd.DataFrame({\n",
    "    'Name': ['Station 1', 'Station 2', 'Station 3'],\n",
    "    'Latitude': [40.748817, 40.761596, 40.764817],\n",
    "    'Longitude': [-73.985428, -73.981618, -73.978508]\n",
    "})\n",
    "\n",
    "# Initialize result storage\n",
    "foursquare_results = []\n"
   ]
  },
  {
   "cell_type": "code",
   "execution_count": 121,
   "metadata": {},
   "outputs": [],
   "source": [
    "for _, row in bike_stations.iterrows():\n",
    "    lat, lon = row['Latitude'], row['Longitude']\n",
    "    data = get_foursquare_data(lat, lon, API_KEY)\n",
    "    if data and 'results' in data:\n",
    "        for result in data['results']:\n",
    "            foursquare_results.append({\n",
    "                'Name': result.get('name', 'Unknown'),\n",
    "                'Latitude': result.get('geocodes', {}).get('main', {}).get('latitude', lat),\n",
    "                'Longitude': result.get('geocodes', {}).get('main', {}).get('longitude', lon),\n",
    "                'Category': result.get('categories', [{'name': 'Unknown'}])[0]['name']\n",
    "            })\n"
   ]
  },
  {
   "cell_type": "markdown",
   "metadata": {},
   "source": [
    "Put your parsed results into a DataFrame"
   ]
  },
  {
   "cell_type": "code",
   "execution_count": 122,
   "metadata": {},
   "outputs": [
    {
     "name": "stdout",
     "output_type": "stream",
     "text": [
      "Foursquare Results DataFrame:\n",
      "                  Name   Latitude  Longitude           Category\n",
      "0            Rib No. 7  40.748329 -73.986845          BBQ Joint\n",
      "1  Yoon Haeundae Galbi  40.749849 -73.984502          BBQ Joint\n",
      "2     Tonchin New York  40.750335 -73.984477                Bar\n",
      "3       BCD Tofu House  40.747437 -73.985820  Korean Restaurant\n",
      "4     The Parlour Room  40.750667 -73.986194       Cocktail Bar\n"
     ]
    }
   ],
   "source": [
    "# Create a DataFrame for Foursquare results\n",
    "foursquare_df = pd.DataFrame(foursquare_results)\n",
    "\n",
    "# Save to CSV\n",
    "foursquare_df.to_csv('foursquare_results_nyc.csv', index=False)\n",
    "\n",
    "# Display the DataFrame\n",
    "print(\"Foursquare Results DataFrame:\")\n",
    "print(foursquare_df.head())"
   ]
  },
  {
   "cell_type": "markdown",
   "metadata": {},
   "source": [
    "# Yelp"
   ]
  },
  {
   "cell_type": "markdown",
   "metadata": {},
   "source": [
    "Send a request to Yelp with a small radius (1000m) for all the bike stations in your city of choice. "
   ]
  },
  {
   "cell_type": "code",
   "execution_count": 123,
   "metadata": {},
   "outputs": [],
   "source": [
    "import requests\n",
    "import pandas as pd\n",
    "from dotenv import load_dotenv\n",
    "import os\n",
    "\n",
    "# Load the .env file to retrieve API keys\n",
    "load_dotenv()\n",
    "API_KEY2 = os.getenv(\"API_KEY2\")\n",
    "\n",
    "if not API_KEY2:\n",
    "    raise ValueError(\"API_KEY2 not found in .env file or environment variables\")\n",
    "\n",
    "# Bike station data for New York City\n",
    "bike_stations = pd.DataFrame({\n",
    "    'Name': ['Station 1', 'Station 2', 'Station 3'],\n",
    "    'Latitude': [40.748817, 40.761596, 40.764817],\n",
    "    'Longitude': [-73.985428, -73.981618, -73.978508]\n",
    "})\n",
    "\n",
    "# Initialize a list to store the parsed POI details\n",
    "yelp_results = []\n"
   ]
  },
  {
   "cell_type": "markdown",
   "metadata": {},
   "source": [
    "Parse through the response to get the POI (such as restaurants, bars, etc) details you want (ratings, name, location, etc)"
   ]
  },
  {
   "cell_type": "code",
   "execution_count": 124,
   "metadata": {},
   "outputs": [
    {
     "name": "stdout",
     "output_type": "stream",
     "text": [
      "Yelp POI DataFrame:\n",
      "  Station Name                                           POI Name  Rating  \\\n",
      "0    Station 1                                            Tonchin     4.4   \n",
      "1    Station 1                                        Izakaya MEW     4.3   \n",
      "2    Station 1  The Ragtrader & Bo Peep Cocktail and Highball ...     4.3   \n",
      "3    Station 1                                   Anytime Kitchen      4.6   \n",
      "4    Station 1                                        Barn Joo 35     4.2   \n",
      "\n",
      "   Review Count   Latitude  Longitude          Address  Distance (m)  \n",
      "0          2345  40.750273 -73.984495     13 W 36th St    179.934357  \n",
      "1          3169  40.750148 -73.986320     53 W 35th St    165.995569  \n",
      "2           995  40.750711 -73.986219  70 W 36th St 1A    220.872893  \n",
      "3          3172  40.747763 -73.986779     23 W 32nd St    163.408392  \n",
      "4          2523  40.749640 -73.985820     34 W 35th St     99.812830  \n"
     ]
    }
   ],
   "source": [
    "# Query Yelp API for each bike station\n",
    "def get_yelp_data(lat, lon, api_key, radius=1000, categories='restaurants,bars'):\n",
    "    headers = {'Authorization': f'Bearer {api_key}'}\n",
    "    params = {\n",
    "        'latitude': lat,\n",
    "        'longitude': lon,\n",
    "        'categories': categories,\n",
    "        'radius': radius\n",
    "    }\n",
    "    response = requests.get('https://api.yelp.com/v3/businesses/search', headers=headers, params=params)\n",
    "    if response.status_code == 200:\n",
    "        return response.json()\n",
    "    else:\n",
    "        print(f\"Yelp API Error: {response.status_code}, {response.text}\")\n",
    "        return None\n",
    "\n",
    "# Loop through each bike station and query the Yelp API\n",
    "for index, row in bike_stations.iterrows():\n",
    "    lat, lon = row['Latitude'], row['Longitude']\n",
    "    response_data = get_yelp_data(lat, lon, API_KEY2, radius=1000, categories='restaurants,bars')\n",
    "    \n",
    "    if response_data:\n",
    "        for business in response_data.get('businesses', []):\n",
    "            # Append parsed details to results\n",
    "            yelp_results.append({\n",
    "                'Station Name': row['Name'],\n",
    "                'POI Name': business.get('name', 'Unknown'),\n",
    "                'Rating': business.get('rating', 'N/A'),\n",
    "                'Review Count': business.get('review_count', 'N/A'),\n",
    "                'Latitude': business.get('coordinates', {}).get('latitude', None),\n",
    "                'Longitude': business.get('coordinates', {}).get('longitude', None),\n",
    "                'Address': business.get('location', {}).get('address1', 'N/A'),\n",
    "                'Distance (m)': business.get('distance', 'N/A')\n",
    "            })\n",
    "\n",
    "# Create a DataFrame from the Yelp results\n",
    "yelp_df = pd.DataFrame(yelp_results)\n",
    "\n",
    "# Save the DataFrame to a CSV file\n",
    "yelp_df.to_csv('yelp_poi_data_nyc.csv', index=False)\n",
    "\n",
    "# Display the DataFrame\n",
    "print(\"Yelp POI DataFrame:\")\n",
    "print(yelp_df.head())"
   ]
  },
  {
   "cell_type": "markdown",
   "metadata": {},
   "source": [
    "Put your parsed results into a DataFrame"
   ]
  },
  {
   "cell_type": "code",
   "execution_count": 125,
   "metadata": {},
   "outputs": [
    {
     "name": "stdout",
     "output_type": "stream",
     "text": [
      "Yelp POI DataFrame:\n",
      "  Station Name                                           POI Name  Rating  \\\n",
      "0    Station 1                                            Tonchin     4.4   \n",
      "1    Station 1                                        Izakaya MEW     4.3   \n",
      "2    Station 1  The Ragtrader & Bo Peep Cocktail and Highball ...     4.3   \n",
      "3    Station 1                                   Anytime Kitchen      4.6   \n",
      "4    Station 1                                        Barn Joo 35     4.2   \n",
      "\n",
      "   Review Count   Latitude  Longitude          Address  Distance (m)  \n",
      "0          2345  40.750273 -73.984495     13 W 36th St    179.934357  \n",
      "1          3169  40.750148 -73.986320     53 W 35th St    165.995569  \n",
      "2           995  40.750711 -73.986219  70 W 36th St 1A    220.872893  \n",
      "3          3172  40.747763 -73.986779     23 W 32nd St    163.408392  \n",
      "4          2523  40.749640 -73.985820     34 W 35th St     99.812830  \n"
     ]
    }
   ],
   "source": [
    "# Create a DataFrame from the Yelp results\n",
    "yelp_df = pd.DataFrame(yelp_results)\n",
    "\n",
    "# Save the DataFrame to a CSV file\n",
    "yelp_df.to_csv('yelp_poi_data_nyc.csv', index=False)\n",
    "\n",
    "# Display the DataFrame\n",
    "print(\"Yelp POI DataFrame:\")\n",
    "print(yelp_df.head())"
   ]
  },
  {
   "cell_type": "markdown",
   "metadata": {},
   "source": [
    "# Comparing Results"
   ]
  },
  {
   "cell_type": "markdown",
   "metadata": {},
   "source": [
    "Which API provided you with more complete data? Provide an explanation. "
   ]
  },
  {
   "cell_type": "markdown",
   "metadata": {},
   "source": [
    "Yelp has provided better coverage in terms of quantity of POI, It has more information on rating and reviews and offer detailed addresses. "
   ]
  },
  {
   "cell_type": "markdown",
   "metadata": {},
   "source": [
    "Get the top 10 restaurants according to their rating"
   ]
  },
  {
   "cell_type": "markdown",
   "metadata": {},
   "source": [
    "Anytime Kitchen \n",
    "CHILI\n",
    "Nan Xiang Soup Dumplings - Koreatown\n",
    "Tuscany Steakhouse\n",
    "Nubiani\n",
    "Zen Ramen & Sushi\n",
    "Haswell Green's\n",
    "Bartley Dunnes\n",
    "Bengal Tiger \n",
    "Beyond Sushi"
   ]
  }
 ],
 "metadata": {
  "kernelspec": {
   "display_name": "test_env",
   "language": "python",
   "name": "python3"
  },
  "language_info": {
   "codemirror_mode": {
    "name": "ipython",
    "version": 3
   },
   "file_extension": ".py",
   "mimetype": "text/x-python",
   "name": "python",
   "nbconvert_exporter": "python",
   "pygments_lexer": "ipython3",
   "version": "3.12.9"
  }
 },
 "nbformat": 4,
 "nbformat_minor": 4
}
